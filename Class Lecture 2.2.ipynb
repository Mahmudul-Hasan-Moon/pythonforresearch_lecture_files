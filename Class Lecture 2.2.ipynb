{
 "cells": [
  {
   "cell_type": "markdown",
   "metadata": {},
   "source": [
    "### Input Output and Comments"
   ]
  },
  {
   "cell_type": "code",
   "execution_count": 2,
   "metadata": {},
   "outputs": [
    {
     "name": "stdout",
     "output_type": "stream",
     "text": [
      "64\n"
     ]
    }
   ],
   "source": [
    "a = 64\n",
    "\n",
    "print(a)"
   ]
  },
  {
   "cell_type": "code",
   "execution_count": 8,
   "metadata": {},
   "outputs": [
    {
     "name": "stdout",
     "output_type": "stream",
     "text": [
      "64.65\n",
      "64.65\n",
      "<class 'str'>\n"
     ]
    }
   ],
   "source": [
    "a = input()\n",
    "\n",
    "print(a)\n",
    "print(type(a))"
   ]
  },
  {
   "cell_type": "code",
   "execution_count": 9,
   "metadata": {},
   "outputs": [
    {
     "name": "stdout",
     "output_type": "stream",
     "text": [
      "64\n",
      "64\n",
      "<class 'int'>\n"
     ]
    }
   ],
   "source": [
    "x = int(input())\n",
    "\n",
    "print(x)\n",
    "print(type(x))"
   ]
  },
  {
   "cell_type": "code",
   "execution_count": 11,
   "metadata": {},
   "outputs": [
    {
     "name": "stdout",
     "output_type": "stream",
     "text": [
      "65.5\n",
      "65.5\n",
      "<class 'float'>\n"
     ]
    }
   ],
   "source": [
    "y  = float(input())\n",
    "\n",
    "print(y)\n",
    "print(type(y))"
   ]
  },
  {
   "cell_type": "code",
   "execution_count": 15,
   "metadata": {},
   "outputs": [
    {
     "name": "stdout",
     "output_type": "stream",
     "text": [
      "Enter the price of the car: 520000\n",
      "520000.0\n",
      "<class 'float'>\n"
     ]
    }
   ],
   "source": [
    "y  = float(input(\"Enter the price of the car: \"))\n",
    "\n",
    "print(y)\n",
    "print(type(y))"
   ]
  },
  {
   "cell_type": "code",
   "execution_count": 16,
   "metadata": {},
   "outputs": [
    {
     "name": "stdout",
     "output_type": "stream",
     "text": [
      "Enter the price of the car: 52.56\n",
      "The price of the car is  52.56\n",
      "<class 'float'>\n"
     ]
    }
   ],
   "source": [
    "y  = float(input(\"Enter the price of the car: \"))\n",
    "\n",
    "print(\"The price of the car is \",y)\n",
    "print(type(y))"
   ]
  },
  {
   "cell_type": "code",
   "execution_count": 26,
   "metadata": {},
   "outputs": [
    {
     "name": "stdout",
     "output_type": "stream",
     "text": [
      "Enter two numbers: 52 71\n",
      "52 71\n",
      "The sum of 52 and 71 is 123\n",
      "The sum of 52 and 71 is 123\n",
      "The sum of 52 and 71 is 123\n"
     ]
    }
   ],
   "source": [
    "a,b = map(int, input(\"Enter two numbers: \").split())  # a and b are two numbers\n",
    "\n",
    "print(a,b)\n",
    "print(\"The sum of\", a, \"and\", b, \"is\", a+b)\n",
    "print(\"The sum of %d and %d is %d\"%(a,b,a+b))\n",
    "print(\"The sum of {0} and {1} is {2}\".format(a,b,a+b))"
   ]
  },
  {
   "cell_type": "code",
   "execution_count": 28,
   "metadata": {},
   "outputs": [
    {
     "name": "stdout",
     "output_type": "stream",
     "text": [
      "1.3687214611872145\n"
     ]
    }
   ],
   "source": [
    "'''This is multiple line comment\n",
    "it use in this program.\n",
    "for use of format specifier'''\n",
    "\n",
    "a = 52.56\n",
    "b = 71.94\n",
    "\n",
    "c = b/a\n",
    "\n",
    "print(c)"
   ]
  },
  {
   "cell_type": "code",
   "execution_count": 23,
   "metadata": {},
   "outputs": [
    {
     "name": "stdout",
     "output_type": "stream",
     "text": [
      "1.368721\n"
     ]
    }
   ],
   "source": [
    "print(\"%f\"%c)"
   ]
  },
  {
   "cell_type": "code",
   "execution_count": 25,
   "metadata": {},
   "outputs": [
    {
     "name": "stdout",
     "output_type": "stream",
     "text": [
      "1.369\n"
     ]
    }
   ],
   "source": [
    "print(\"%.3f\"%c)"
   ]
  },
  {
   "cell_type": "code",
   "execution_count": 33,
   "metadata": {},
   "outputs": [
    {
     "name": "stdout",
     "output_type": "stream",
     "text": [
      "5 6 7\n",
      "5,6,7\n",
      "Moon$Python\n"
     ]
    }
   ],
   "source": [
    "a,b,c = map(int, input().split())\n",
    "\n",
    "print(\"%d,%d,%d\"%(a,b,c))\n",
    "print(\"Moon\",\"Python\", sep='$')"
   ]
  },
  {
   "cell_type": "code",
   "execution_count": null,
   "metadata": {},
   "outputs": [],
   "source": []
  }
 ],
 "metadata": {
  "kernelspec": {
   "display_name": "Python 3",
   "language": "python",
   "name": "python3"
  },
  "language_info": {
   "codemirror_mode": {
    "name": "ipython",
    "version": 3
   },
   "file_extension": ".py",
   "mimetype": "text/x-python",
   "name": "python",
   "nbconvert_exporter": "python",
   "pygments_lexer": "ipython3",
   "version": "3.8.5"
  }
 },
 "nbformat": 4,
 "nbformat_minor": 4
}
