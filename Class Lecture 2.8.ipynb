{
 "cells": [
  {
   "cell_type": "markdown",
   "id": "969ccb27",
   "metadata": {},
   "source": [
    "### Function"
   ]
  },
  {
   "cell_type": "code",
   "execution_count": 3,
   "id": "f93f5886",
   "metadata": {},
   "outputs": [
    {
     "name": "stdout",
     "output_type": "stream",
     "text": [
      "Hello\n",
      "Hello\n",
      "Hello\n"
     ]
    }
   ],
   "source": [
    "def fun():\n",
    "    print(\"Hello\")\n",
    "    \n",
    "fun()\n",
    "fun()\n",
    "fun()"
   ]
  },
  {
   "cell_type": "code",
   "execution_count": 6,
   "id": "f7c1fd1f",
   "metadata": {},
   "outputs": [
    {
     "name": "stdout",
     "output_type": "stream",
     "text": [
      "Enter two numbers:5 6\n",
      "11\n"
     ]
    }
   ],
   "source": [
    "def addition():\n",
    "    a,b = map(int,input(\"Enter two numbers:\").split())\n",
    "    \n",
    "    sum = a + b\n",
    "    \n",
    "    print(sum)\n",
    "    \n",
    "addition()    "
   ]
  },
  {
   "cell_type": "code",
   "execution_count": 7,
   "id": "7e28ed69",
   "metadata": {},
   "outputs": [
    {
     "name": "stdout",
     "output_type": "stream",
     "text": [
      "Enter two numbers:45 65\n",
      "110\n"
     ]
    }
   ],
   "source": [
    "def addition(a,b):\n",
    "    \n",
    "    sum = a + b\n",
    "    \n",
    "    print(sum)\n",
    "\n",
    "a,b = map(int,input(\"Enter two numbers:\").split())\n",
    "    \n",
    "addition(a,b) "
   ]
  },
  {
   "cell_type": "code",
   "execution_count": null,
   "id": "eb253726",
   "metadata": {},
   "outputs": [],
   "source": [
    "*args"
   ]
  },
  {
   "cell_type": "code",
   "execution_count": 10,
   "id": "a37759ea",
   "metadata": {},
   "outputs": [
    {
     "name": "stdout",
     "output_type": "stream",
     "text": [
      "6\n",
      "15\n"
     ]
    }
   ],
   "source": [
    "def adder(*number):\n",
    "    sum = 0\n",
    "    \n",
    "    for num in number:\n",
    "        sum = sum + num\n",
    "        \n",
    "    print(sum)\n",
    "    \n",
    "adder(1,2,3)\n",
    "adder(1,2,3,4,5)"
   ]
  },
  {
   "cell_type": "code",
   "execution_count": 13,
   "id": "433645f7",
   "metadata": {},
   "outputs": [
    {
     "name": "stdout",
     "output_type": "stream",
     "text": [
      "<class 'dict'>\n",
      "name = Moon\n",
      "age = 24\n",
      "<class 'dict'>\n",
      "name = Moon\n",
      "age = 24\n",
      "gpa = 5.0\n",
      "phn = 1518\n"
     ]
    }
   ],
   "source": [
    "def fun(**kwargs):\n",
    "    print(type(kwargs))\n",
    "    \n",
    "    for key,value in kwargs.items():\n",
    "        print(\"{} = {}\".format(key,value))\n",
    "        \n",
    "fun(name='Moon', age=24)\n",
    "fun(name='Moon', age=24, gpa = 5.00, phn = 1518)"
   ]
  },
  {
   "cell_type": "code",
   "execution_count": null,
   "id": "34869249",
   "metadata": {},
   "outputs": [],
   "source": []
  }
 ],
 "metadata": {
  "kernelspec": {
   "display_name": "Python 3",
   "language": "python",
   "name": "python3"
  },
  "language_info": {
   "codemirror_mode": {
    "name": "ipython",
    "version": 3
   },
   "file_extension": ".py",
   "mimetype": "text/x-python",
   "name": "python",
   "nbconvert_exporter": "python",
   "pygments_lexer": "ipython3",
   "version": "3.8.8"
  }
 },
 "nbformat": 4,
 "nbformat_minor": 5
}
