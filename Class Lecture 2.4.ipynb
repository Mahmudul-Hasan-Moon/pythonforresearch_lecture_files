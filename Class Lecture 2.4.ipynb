{
 "cells": [
  {
   "cell_type": "code",
   "execution_count": 15,
   "metadata": {},
   "outputs": [
    {
     "name": "stdout",
     "output_type": "stream",
     "text": [
      "Bangladesh\n",
      "Right\n"
     ]
    }
   ],
   "source": [
    "#if then\n",
    "\n",
    "str1 = input()\n",
    "\n",
    "if(str1==\"Bangladesh\"):\n",
    "    print(\"Right\")"
   ]
  },
  {
   "cell_type": "code",
   "execution_count": 4,
   "metadata": {},
   "outputs": [
    {
     "name": "stdout",
     "output_type": "stream",
     "text": [
      "B is smaller then A\n"
     ]
    }
   ],
   "source": [
    "# if else\n",
    "\n",
    "a = 50\n",
    "b = 10\n",
    "\n",
    "if(a<b):\n",
    "    print(\"A is smaller than b\")\n",
    "else:\n",
    "    print(\"B is smaller then A\")"
   ]
  },
  {
   "cell_type": "code",
   "execution_count": 6,
   "metadata": {},
   "outputs": [
    {
     "name": "stdout",
     "output_type": "stream",
     "text": [
      "5 3\n",
      "Yes\n"
     ]
    }
   ],
   "source": [
    "# take a number and if the number is 5 and greater than b then print yes, otherwise print No\n",
    "\n",
    "a,b = map(int, input().split())\n",
    "\n",
    "if(a==5 and a>b):\n",
    "    print(\"Yes\")\n",
    "else:\n",
    "    print(\"No\")\n",
    "\n"
   ]
  },
  {
   "cell_type": "code",
   "execution_count": 9,
   "metadata": {},
   "outputs": [
    {
     "name": "stdout",
     "output_type": "stream",
     "text": [
      "Enter a number:0\n",
      "Zero\n"
     ]
    }
   ],
   "source": [
    "#elif\n",
    "n = int(input(\"Enter a number:\"))\n",
    "\n",
    "if(n==0):\n",
    "    print(\"Zero\")\n",
    "elif(n>0):\n",
    "    print(\"Positive\")\n",
    "else:\n",
    "    print(\"Negative\")"
   ]
  },
  {
   "cell_type": "code",
   "execution_count": 12,
   "metadata": {},
   "outputs": [
    {
     "name": "stdout",
     "output_type": "stream",
     "text": [
      "8\n",
      "Less than 10\n"
     ]
    }
   ],
   "source": [
    "# nested if else\n",
    "\n",
    "# take a number and if the number is even then checkn the number is greater then 10 or not, if the number is odd then print ODD\n",
    "\n",
    "n = int(input())\n",
    "\n",
    "if(n%2==0):\n",
    "    if(n>10):\n",
    "        print(\"Greater than 10\")\n",
    "    else:\n",
    "        print(\"Less than 10\")\n",
    "        \n",
    "else:\n",
    "    print(\"ODD\")\n",
    "        \n",
    "        \n",
    "    \n"
   ]
  },
  {
   "cell_type": "code",
   "execution_count": 13,
   "metadata": {},
   "outputs": [
    {
     "name": "stdout",
     "output_type": "stream",
     "text": [
      "Ture\n"
     ]
    }
   ],
   "source": [
    "print(\"Ture\") if 4<5 else print(\"False\")"
   ]
  },
  {
   "cell_type": "code",
   "execution_count": null,
   "metadata": {},
   "outputs": [],
   "source": []
  }
 ],
 "metadata": {
  "kernelspec": {
   "display_name": "Python 3",
   "language": "python",
   "name": "python3"
  },
  "language_info": {
   "codemirror_mode": {
    "name": "ipython",
    "version": 3
   },
   "file_extension": ".py",
   "mimetype": "text/x-python",
   "name": "python",
   "nbconvert_exporter": "python",
   "pygments_lexer": "ipython3",
   "version": "3.8.5"
  }
 },
 "nbformat": 4,
 "nbformat_minor": 4
}
